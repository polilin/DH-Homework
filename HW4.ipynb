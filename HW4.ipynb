{
 "cells": [
  {
   "cell_type": "markdown",
   "metadata": {},
   "source": [
    "## *Задание №1*\n",
    "\n",
    "1. Скачайте из папки с домашними заданиями английский текст первой книги о Гарри Поттере. Он должен быть сохранен отдельным файлом.\n",
    "2. Очистите текст от пунктуации, приведите его к нижнему регистру, лемматизируйте и запишите в новый файл. Проверьте, выполняется ли здесь закон Ципфа. Для этого постройте линейную диаграмму, где по оси Х будет ранг (порядковый номер) слова в отсортированном по убыванию частотном словаре, а по оси Y - относительная частота (абсолютная частота, разделенная на количество слов в тексте). Т.е. у самого частотного слова будет ранг 1, у второго по частоте -- 2 и т.д.\n",
    "3. Очистите текст от стоп-слов. Постройте barplot для 30 самых частотных слов. Эти слова должны быть по оси Х в виде подписей к делениям. Значениями по этой оси будет ряд чисел от 0 до 30."
   ]
  },
  {
   "cell_type": "code",
   "execution_count": 2,
   "metadata": {},
   "outputs": [],
   "source": [
    "import os\n",
    "with open(\"/Users/mac/Desktop/Новая/python-dh-hw/Harry_Potter.txt\", 'r', encoding='utf-8') as a:\n",
    "    HarryPotter = a.read ()"
   ]
  },
  {
   "cell_type": "code",
   "execution_count": 3,
   "metadata": {},
   "outputs": [],
   "source": [
    "#Отчищаем от пунктуации\n",
    "HarryPotterwords = []\n",
    "for word in HarryPotter.split():\n",
    "    word = word.strip(\"’,!?.,!”‘-–\"\"-«»—’*::;‘“’\")\n",
    "    if len(word) != 0:\n",
    "        HarryPotterwords.append(word)"
   ]
  },
  {
   "cell_type": "code",
   "execution_count": 4,
   "metadata": {},
   "outputs": [],
   "source": [
    "#Приводим к нижнему регистру \n",
    "smalharry = [w.lower() for w in HarryPotterwords]\n",
    "smallharry = ' '.join(smalharry)"
   ]
  },
  {
   "cell_type": "code",
   "execution_count": 18,
   "metadata": {},
   "outputs": [],
   "source": [
    "#лемматизируем\n",
    "from pymystem3 import Mystem\n",
    "\n",
    "m = Mystem()\n",
    "lemmas = m.lemmatize(\"\".join(smallharry))\n",
    "\n",
    "lemaharry = ''.join(lemmas)"
   ]
  },
  {
   "cell_type": "code",
   "execution_count": 6,
   "metadata": {},
   "outputs": [],
   "source": [
    "#записываем в новый файл\n",
    "f = open('lemtext.txt', 'w')\n",
    "for lemtext in lemaharry:\n",
    "    f.write(lemtext)\n",
    "\n",
    "f.close()\n",
    "with open(\"/Users/mac/Desktop/Новая/python-dh-hw/lemtext.txt\", 'r', encoding='utf-8') as b:\n",
    "    lemtext = b.read ()"
   ]
  },
  {
   "cell_type": "code",
   "execution_count": 7,
   "metadata": {},
   "outputs": [],
   "source": [
    "from collections import Counter\n",
    "freqharry  = Counter (lemmas)"
   ]
  },
  {
   "cell_type": "code",
   "execution_count": 8,
   "metadata": {},
   "outputs": [
    {
     "name": "stdout",
     "output_type": "stream",
     "text": [
      "161229\n"
     ]
    }
   ],
   "source": [
    "HP = len(lemmas)\n",
    "print(HP)"
   ]
  },
  {
   "cell_type": "code",
   "execution_count": 13,
   "metadata": {},
   "outputs": [
    {
     "name": "stdout",
     "output_type": "stream",
     "text": [
      "5814\n"
     ]
    }
   ],
   "source": [
    "longharry = len (freqharry)\n",
    "print (longharry)"
   ]
  },
  {
   "cell_type": "code",
   "execution_count": 9,
   "metadata": {},
   "outputs": [],
   "source": [
    "harrysfrequency = []\n",
    "for v in sorted(freqharry.values(), reverse=True):\n",
    "    harrysfrequency.append(v/HP) "
   ]
  },
  {
   "cell_type": "code",
   "execution_count": 32,
   "metadata": {},
   "outputs": [
    {
     "data": {
      "image/png": "[encoded data removed]",
      "text/plain": [
       "<Figure size 432x288 with 1 Axes>"
      ]
     },
     "metadata": {},
     "output_type": "display_data"
    }
   ],
   "source": [
    "#Проверяем выполняется ли тут закон Ципфа\n",
    "import matplotlib.pyplot as plt \n",
    "X = range(5814)\n",
    "Y = harrysfrequency\n",
    "plt.plot(X,Y, color = 'green')\n",
    "plt.title('Закон Ципфа')\n",
    "plt.xlabel('Порядковый номер слова')\n",
    "plt.ylabel('Относительная частота')\n",
    "plt.show()\n",
    "#Закон выполняется"
   ]
  },
  {
   "cell_type": "code",
   "execution_count": 14,
   "metadata": {},
   "outputs": [],
   "source": [
    "#Чистим от стоп-слов\n",
    "from nltk.corpus import stopwords \n",
    "sw = stopwords.words('english')\n",
    "stopharry = [w for w in lemaharry.split () if w not in sw]"
   ]
  },
  {
   "cell_type": "code",
   "execution_count": 15,
   "metadata": {},
   "outputs": [
    {
     "name": "stdout",
     "output_type": "stream",
     "text": [
      "[('harry', 1195), ('said', 794), ('ron', 408), ('hagrid', 332), ('back', 257), ('hermione', 254), ('one', 249), ('got', 196), ('could', 193), ('get', 192), ('like', 188), ('know', 185), ('see', 177), ('professor', 172), ('looked', 169), ('around', 141), ('snape', 140), ('dumbledore', 139), (\"he'd\", 134), ('going', 134), ('go', 129), ('something', 125), ('think', 121), ('never', 121), ('right', 120), ('look', 119), ('uncle', 119), ('time', 115), ('dudley', 114), (\"i'm\", 113)]\n"
     ]
    }
   ],
   "source": [
    "#30 самых частотных\n",
    "stopfreqharry  = Counter (stopharry) \n",
    "print (stopfreqharry.most_common(30)) "
   ]
  },
  {
   "cell_type": "code",
   "execution_count": 30,
   "metadata": {},
   "outputs": [],
   "source": [
    "frequency = []\n",
    "for v in sorted(stopfreqharry.values(), reverse=True):\n",
    "    frequency.append(v)"
   ]
  },
  {
   "cell_type": "code",
   "execution_count": 33,
   "metadata": {},
   "outputs": [
    {
     "data": {
      "image/png": "[encoded data removed]",
      "text/plain": [
       "<Figure size 432x288 with 1 Axes>"
      ]
     },
     "metadata": {},
     "output_type": "display_data"
    }
   ],
   "source": [
    "#Строим barplot для 30 самых частотных слов\n",
    "X= range(30) \n",
    "Y= frequency[:30]\n",
    "plt.bar(X,Y, color = 'yellow')\n",
    "plt.xticks(X, ['harry', 'said', 'ron', 'hagrid', 'back', 'hermione', 'one', 'got', 'could','get', 'like', 'know', 'see', 'professor', 'looked', 'around', 'snape', 'dumbledore', \"he'd\", 'going', 'go', 'something', 'think', 'never', 'right', 'look', 'uncle', 'time', 'dudley', \"i'm\"],rotation=90)\n",
    "plt.title('30 самых частотных слов')\n",
    "plt.ylabel('Абсолютная частота слова')\n",
    "plt.show()"
   ]
  }
 ],
 "metadata": {
  "kernelspec": {
   "display_name": "Python 3",
   "language": "python",
   "name": "python3"
  },
  "language_info": {
   "codemirror_mode": {
    "name": "ipython",
    "version": 3
   },
   "file_extension": ".py",
   "mimetype": "text/x-python",
   "name": "python",
   "nbconvert_exporter": "python",
   "pygments_lexer": "ipython3",
   "version": "3.6.5"
  }
 },
 "nbformat": 4,
 "nbformat_minor": 2
}
