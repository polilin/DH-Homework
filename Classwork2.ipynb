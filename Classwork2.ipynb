{
 "cells": [
  {
   "cell_type": "code",
   "execution_count": 6,
   "metadata": {},
   "outputs": [
    {
     "data": {
      "text/plain": [
       "1992"
      ]
     },
     "execution_count": 6,
     "metadata": {},
     "output_type": "execute_result"
    }
   ],
   "source": [
    "birthdays = {\"Вася\": 1991, \"Маша\": 1992, \"Петя\": 1992}\n",
    "birthdays.get(\"Петя\")"
   ]
  },
  {
   "cell_type": "code",
   "execution_count": 7,
   "metadata": {},
   "outputs": [
    {
     "name": "stdout",
     "output_type": "stream",
     "text": [
      "1994\n"
     ]
    }
   ],
   "source": [
    "print (birthdays.get(\"Иннокентий\", 1994))"
   ]
  },
  {
   "cell_type": "code",
   "execution_count": 8,
   "metadata": {},
   "outputs": [
    {
     "name": "stdout",
     "output_type": "stream",
     "text": [
      "Введите имя: Иннокентий\n",
      "Введите год рождения: 1994\n",
      "{'Вася': 1991, 'Маша': 1992, 'Петя': 1992, 'Иннокентий': 1994}\n"
     ]
    }
   ],
   "source": [
    "name = input(\"Введите имя: \")\n",
    "\n",
    "birthdays[name] = birthdays.get(name, int(input(\"Введите год рождения: \")))\n",
    "\n",
    "print(birthdays)"
   ]
  },
  {
   "cell_type": "code",
   "execution_count": 2,
   "metadata": {},
   "outputs": [
    {
     "data": {
      "text/plain": [
       "89774563218"
      ]
     },
     "execution_count": 2,
     "metadata": {},
     "output_type": "execute_result"
    }
   ],
   "source": [
    "numbers = {\"Маша\": 89115989800, \"Саша\": 89774563218, \"Аня\": 8999921356790}\n",
    "numbers.get(\"Саша\")\n"
   ]
  },
  {
   "cell_type": "code",
   "execution_count": 5,
   "metadata": {},
   "outputs": [
    {
     "name": "stdout",
     "output_type": "stream",
     "text": [
      "Введите имя: Яна\n",
      "Введите номер: 89551236675\n",
      "Яна\n"
     ]
    }
   ],
   "source": [
    "name = input(\"Введите имя: \")\n",
    "numbers[name] = numbers.get(name, int(input(\"Введите номер: \")))  \n",
    "print (name)"
   ]
  },
  {
   "cell_type": "code",
   "execution_count": 4,
   "metadata": {},
   "outputs": [
    {
     "data": {
      "text/plain": [
       "899991234567"
      ]
     },
     "execution_count": 4,
     "metadata": {},
     "output_type": "execute_result"
    }
   ],
   "source": [
    "numbers.get (\"Таня\")"
   ]
  },
  {
   "cell_type": "code",
   "execution_count": 6,
   "metadata": {},
   "outputs": [
    {
     "data": {
      "text/plain": [
       "89551236675"
      ]
     },
     "execution_count": 6,
     "metadata": {},
     "output_type": "execute_result"
    }
   ],
   "source": [
    "numbers.get(\"Яна\")"
   ]
  },
  {
   "cell_type": "code",
   "execution_count": 8,
   "metadata": {},
   "outputs": [
    {
     "name": "stdout",
     "output_type": "stream",
     "text": [
      "{'Маша': 89115989800, 'Саша': 89774563218, 'Аня': 8999921356790, 'Таня': 899991234567, 'Яна': 89551236675}\n"
     ]
    }
   ],
   "source": [
    "print (numbers)"
   ]
  },
  {
   "cell_type": "code",
   "execution_count": 9,
   "metadata": {},
   "outputs": [
    {
     "name": "stdout",
     "output_type": "stream",
     "text": [
      "aaaaa!\n",
      "aaaaaaa!\n",
      "aaaaaaaaa!\n"
     ]
    }
   ],
   "source": [
    "for i in range(5, 10, 2): \n",
    "    print(\"a\" * i, \"!\", sep=\"\")"
   ]
  },
  {
   "cell_type": "code",
   "execution_count": 15,
   "metadata": {},
   "outputs": [
    {
     "name": "stdout",
     "output_type": "stream",
     "text": [
      "Russia\n",
      "France\n",
      "Turkey\n",
      "Georgia\n"
     ]
    }
   ],
   "source": [
    "country = {\"Russia\": \"Moscow\", \"France\": \"Paris\", \"Turkey\": \"Ankara\", \"Georgia\": \"Tbilisi\", \"Italy\": \"Rome\", \"Great Britain\": \"London\"}\n",
    "for word in (country):\n",
    "    if word == \"Italy\":\n",
    "        break\n",
    "    print(word)  "
   ]
  },
  {
   "cell_type": "code",
   "execution_count": null,
   "metadata": {},
   "outputs": [],
   "source": []
  }
 ],
 "metadata": {
  "kernelspec": {
   "display_name": "Python 3",
   "language": "python",
   "name": "python3"
  },
  "language_info": {
   "codemirror_mode": {
    "name": "ipython",
    "version": 3
   },
   "file_extension": ".py",
   "mimetype": "text/x-python",
   "name": "python",
   "nbconvert_exporter": "python",
   "pygments_lexer": "ipython3",
   "version": "3.6.5"
  }
 },
 "nbformat": 4,
 "nbformat_minor": 2
}
