{
 "cells": [
  {
   "cell_type": "code",
   "execution_count": 1,
   "metadata": {},
   "outputs": [
    {
     "name": "stdout",
     "output_type": "stream",
     "text": [
      "['варкалось', 'хливкие', 'шорьки', 'пырялись', 'по', 'наве', 'и', 'хрюкотали', 'зелюки', 'как', 'мюмзики', 'в', 'мове', 'о', 'бойся', 'бармаглота', 'сын', 'он', 'так', 'свирлеп', 'и', 'дик', 'а', 'в', 'глyще', 'рымит', 'исполин', 'злопастный', 'брандашмыг']\n"
     ]
    }
   ],
   "source": [
    "# Задание 1\n",
    "words = \"варкалось хливкие шорьки пырялись по наве и хрюкотали зелюки как мюмзики в мове о бойся бармаглота сын он так свирлеп и дик а в глyще рымит исполин злопастный брандашмыг\"\n",
    "wordlist = words.split()\n",
    "print (wordlist)"
   ]
  },
  {
   "cell_type": "code",
   "execution_count": 2,
   "metadata": {},
   "outputs": [
    {
     "name": "stdout",
     "output_type": "stream",
     "text": [
      "варкалось хливкие\n",
      "хливкие шорьки\n",
      "шорьки пырялись\n",
      "пырялись по\n",
      "по наве\n",
      "наве и\n",
      "и хрюкотали\n",
      "хрюкотали зелюки\n",
      "зелюки как\n",
      "как мюмзики\n",
      "мюмзики в\n",
      "в мове\n",
      "мове о\n",
      "о бойся\n",
      "бойся бармаглота\n",
      "бармаглота сын\n",
      "сын он\n",
      "он так\n",
      "так свирлеп\n",
      "свирлеп и\n",
      "и дик\n",
      "дик а\n",
      "а в\n",
      "в глyще\n",
      "глyще рымит\n",
      "рымит исполин\n",
      "исполин злопастный\n",
      "злопастный брандашмыг\n",
      "['варкалось хливкие', 'хливкие шорьки', 'шорьки пырялись', 'пырялись по', 'по наве', 'наве и', 'и хрюкотали', 'хрюкотали зелюки', 'зелюки как', 'как мюмзики', 'мюмзики в', 'в мове', 'мове о', 'о бойся', 'бойся бармаглота', 'бармаглота сын', 'сын он', 'он так', 'так свирлеп', 'свирлеп и', 'и дик', 'дик а', 'а в', 'в глyще', 'глyще рымит', 'рымит исполин', 'исполин злопастный', 'злопастный брандашмыг']\n"
     ]
    }
   ],
   "source": [
    "#Первый вариант решения\n",
    "bigrammas = []\n",
    "for num in range(len(wordlist)-1):\n",
    "    bigram = wordlist[num] + \" \" + wordlist[num + 1]\n",
    "    bigrammas.append(bigram)\n",
    "    print(wordlist[num] + \" \" + wordlist[num + 1])\n",
    "    \n",
    "print(bigrammas)   "
   ]
  },
  {
   "cell_type": "code",
   "execution_count": 3,
   "metadata": {},
   "outputs": [
    {
     "name": "stdout",
     "output_type": "stream",
     "text": [
      "[['варкалось', 'хливкие'], ['хливкие', 'шорьки'], ['шорьки', 'пырялись'], ['пырялись', 'по'], ['по', 'наве'], ['наве', 'и'], ['и', 'хрюкотали'], ['хрюкотали', 'зелюки'], ['зелюки', 'как'], ['как', 'мюмзики'], ['мюмзики', 'в'], ['в', 'мове'], ['мове', 'о'], ['о', 'бойся'], ['бойся', 'бармаглота'], ['бармаглота', 'сын'], ['сын', 'он'], ['он', 'так'], ['так', 'свирлеп'], ['свирлеп', 'и'], ['и', 'дик'], ['дик', 'а'], ['а', 'в'], ['в', 'глyще'], ['глyще', 'рымит'], ['рымит', 'исполин'], ['исполин', 'злопастный'], ['злопастный', 'брандашмыг']]\n"
     ]
    }
   ],
   "source": [
    "#Или второй вариант решения\n",
    "final = []\n",
    "for z in range(len(wordlist)-1):\n",
    "    final.append([wordlist [z] ,wordlist [z+1] ])\n",
    "print (final)"
   ]
  },
  {
   "cell_type": "code",
   "execution_count": 4,
   "metadata": {},
   "outputs": [],
   "source": [
    "# Задание 2\n",
    "import os"
   ]
  },
  {
   "cell_type": "code",
   "execution_count": 5,
   "metadata": {},
   "outputs": [
    {
     "name": "stdout",
     "output_type": "stream",
     "text": [
      "/Users/mac/Desktop/Snake/DH-Homework\n"
     ]
    }
   ],
   "source": [
    "print(os.getcwd())"
   ]
  },
  {
   "cell_type": "code",
   "execution_count": 6,
   "metadata": {},
   "outputs": [
    {
     "name": "stdout",
     "output_type": "stream",
     "text": [
      "Untitled1.ipynb\n",
      ".DS_Store\n",
      "Hello World.pages\n",
      "README.md\n",
      "classwork.ipynb\n",
      "Classwork2.ipynb\n",
      ".gitignore\n",
      "Del\n",
      "HW1.ipynb\n",
      "Classwork_3.ipynb\n",
      ".ipynb_checkpoints\n",
      "poems\n",
      ".git\n",
      "HW2.ipynb\n",
      "HomeWork1.ipynb\n"
     ]
    }
   ],
   "source": [
    "files=[]\n",
    "for file in os.listdir('.'): \n",
    "    print(file)\n",
    "    files.append(file)"
   ]
  },
  {
   "cell_type": "code",
   "execution_count": 7,
   "metadata": {},
   "outputs": [
    {
     "data": {
      "text/plain": [
       "15"
      ]
     },
     "execution_count": 7,
     "metadata": {},
     "output_type": "execute_result"
    }
   ],
   "source": [
    "len(files)"
   ]
  },
  {
   "cell_type": "code",
   "execution_count": 8,
   "metadata": {},
   "outputs": [
    {
     "name": "stdout",
     "output_type": "stream",
     "text": [
      "/Users/mac/Desktop/Snake/DH-Homework/poems/poems.txt\n",
      "/Users/mac/Desktop/Snake/DH-Homework/poems/шредингер.txt\n",
      "/Users/mac/Desktop/Snake/DH-Homework/poems/боль.txt\n",
      "/Users/mac/Desktop/Snake/DH-Homework/poems/ворон.txt\n",
      "/Users/mac/Desktop/Snake/DH-Homework/poems/кладь.txt\n",
      "/Users/mac/Desktop/Snake/DH-Homework/poems/деды.txt\n",
      "/Users/mac/Desktop/Snake/DH-Homework/poems/ночь.txt\n",
      "/Users/mac/Desktop/Snake/DH-Homework/poems/сказки/король.txt\n",
      "/Users/mac/Desktop/Snake/DH-Homework/poems/сказки/крестная.txt\n",
      "/Users/mac/Desktop/Snake/DH-Homework/poems/сказки/гримм.txt\n",
      "/Users/mac/Desktop/Snake/DH-Homework/poems/сказки/королевич.txt\n",
      "/Users/mac/Desktop/Snake/DH-Homework/poems/сказки/яга.txt\n",
      "/Users/mac/Desktop/Snake/DH-Homework/poems/котики/кот.txt\n",
      "/Users/mac/Desktop/Snake/DH-Homework/poems/котики/лео.txt\n"
     ]
    }
   ],
   "source": [
    "for root, dirs, files in os.walk(\"/Users/mac/Desktop/Snake/DH-Homework/poems\"):\n",
    "    for name in files:\n",
    "        fullname = os.path.join(root, name)\n",
    "        print(fullname)\n",
    "        f = open(fullname, 'r', encoding='utf-8')\n",
    "        poem = f.read()\n",
    "        p = open(\"/Users/mac/Desktop/Snake/DH-Homework/poems/poems.txt\", 'a', encoding='utf-8')\n",
    "        p.write(poem)"
   ]
  },
  {
   "cell_type": "code",
   "execution_count": 9,
   "metadata": {},
   "outputs": [],
   "source": [
    "with open('/Users/mac/Desktop/Snake/DH-Homework/poems/poems.txt', 'r', encoding='utf-8') as f:\n",
    "    poem = f.read()"
   ]
  },
  {
   "cell_type": "code",
   "execution_count": 10,
   "metadata": {},
   "outputs": [
    {
     "data": {
      "text/plain": [
       "True"
      ]
     },
     "execution_count": 10,
     "metadata": {},
     "output_type": "execute_result"
    }
   ],
   "source": [
    "f.closed"
   ]
  },
  {
   "cell_type": "code",
   "execution_count": 11,
   "metadata": {},
   "outputs": [
    {
     "name": "stdout",
     "output_type": "stream",
     "text": [
      "\n",
      "Удивительная кошка\n",
      "\n",
      "Несчастная кошка порезала лапу-\n",
      "Сидит, и ни шагу не может ступить.\n",
      "Скорей, чтобы вылечить кошкину лапу\n",
      "Воздушные шарики надо купить!\n",
      "\n",
      "И сразу столпился народ на дороге-\n",
      "Шумит, и кричит, и на кошку глядит.\n",
      "А кошка отчасти идет по дороге,\n",
      "Отчасти по воздуху плавно летит!\n"
     ]
    }
   ],
   "source": [
    "# Задание 3\n",
    "poem = \"\"\"\n",
    "Удивительная кошка\n",
    "\n",
    "Несчастная кошка порезала лапу-\n",
    "Сидит, и ни шагу не может ступить.\n",
    "Скорей, чтобы вылечить кошкину лапу\n",
    "Воздушные шарики надо купить!\n",
    "\n",
    "И сразу столпился народ на дороге-\n",
    "Шумит, и кричит, и на кошку глядит.\n",
    "А кошка отчасти идет по дороге,\n",
    "Отчасти по воздуху плавно летит!\"\"\"\n",
    "print (poem)"
   ]
  },
  {
   "cell_type": "code",
   "execution_count": 12,
   "metadata": {},
   "outputs": [
    {
     "name": "stdout",
     "output_type": "stream",
     "text": [
      "Количество символов :  290\n"
     ]
    }
   ],
   "source": [
    "#Количество слов\n",
    "print('Количество символов : ', len(poem))"
   ]
  },
  {
   "cell_type": "code",
   "execution_count": 13,
   "metadata": {},
   "outputs": [
    {
     "name": "stdout",
     "output_type": "stream",
     "text": [
      "['Удивительная', 'кошка', 'Несчастная', 'кошка', 'порезала', 'лапу', 'Сидит', 'и', 'ни', 'шагу', 'не', 'может', 'ступить', 'Скорей', 'чтобы', 'вылечить', 'кошкину', 'лапу', 'Воздушные', 'шарики', 'надо', 'купить', 'И', 'сразу', 'столпился', 'народ', 'на', 'дороге', 'Шумит', 'и', 'кричит', 'и', 'на', 'кошку', 'глядит', 'А', 'кошка', 'отчасти', 'идет', 'по', 'дороге', 'Отчасти', 'по', 'воздуху', 'плавно', 'летит']\n"
     ]
    }
   ],
   "source": [
    "#От пунктуации можно избавиться так\n",
    "words = []\n",
    "\n",
    "for word in poem.split():\n",
    "    words.append(word.strip(\"!?.,-\"))\n",
    "    \n",
    "print(words)"
   ]
  },
  {
   "cell_type": "code",
   "execution_count": 14,
   "metadata": {},
   "outputs": [
    {
     "name": "stdout",
     "output_type": "stream",
     "text": [
      "['Удивительная', 'кошка', 'Несчастная', 'кошка', 'порезала', 'лапу', 'Сидит', 'и', 'ни', 'шагу', 'не', 'может', 'ступить', 'Скорей', 'чтобы', 'вылечить', 'кошкину', 'лапу', 'Воздушные', 'шарики', 'надо', 'купить', 'И', 'сразу', 'столпился', 'народ', 'на', 'дороге', 'Шумит', 'и', 'кричит', 'и', 'на', 'кошку', 'глядит', 'А', 'кошка', 'отчасти', 'идет', 'по', 'дороге', 'Отчасти', 'по', 'воздуху', 'плавно', 'летит']\n",
      "\n"
     ]
    }
   ],
   "source": [
    "#А можно так\n",
    "words = [word.strip(\"!?.,-\") for word in poem.split()]\n",
    "print(words)\n",
    "print()"
   ]
  },
  {
   "cell_type": "code",
   "execution_count": 15,
   "metadata": {},
   "outputs": [
    {
     "name": "stdout",
     "output_type": "stream",
     "text": [
      "Удивительная кошка Несчастная кошка порезала лапу Сидит и ни шагу не может ступить Скорей чтобы вылечить кошкину лапу Воздушные шарики надо купить И сразу столпился народ на дороге Шумит и кричит и на кошку глядит А кошка отчасти идет по дороге Отчасти по воздуху плавно летит\n"
     ]
    }
   ],
   "source": [
    "#Объединяем слова из получившегося списка в строку через пробел\n",
    "union = ' '.join(words)\n",
    "print(union)"
   ]
  },
  {
   "cell_type": "code",
   "execution_count": 16,
   "metadata": {},
   "outputs": [
    {
     "name": "stdout",
     "output_type": "stream",
     "text": [
      "['удивительная', 'кошка', 'несчастная', 'кошка', 'порезала', 'лапу', 'сидит', 'и', 'ни', 'шагу', 'не', 'может', 'ступить', 'скорей', 'чтобы', 'вылечить', 'кошкину', 'лапу', 'воздушные', 'шарики', 'надо', 'купить', 'и', 'сразу', 'столпился', 'народ', 'на', 'дороге', 'шумит', 'и', 'кричит', 'и', 'на', 'кошку', 'глядит', 'а', 'кошка', 'отчасти', 'идет', 'по', 'дороге', 'отчасти', 'по', 'воздуху', 'плавно', 'летит']\n"
     ]
    }
   ],
   "source": [
    "#Делаем слова маленькими\n",
    "smallwords =[w.lower() for w in words]\n",
    "print(smallwords)"
   ]
  },
  {
   "cell_type": "code",
   "execution_count": 17,
   "metadata": {},
   "outputs": [
    {
     "name": "stdout",
     "output_type": "stream",
     "text": [
      "46\n"
     ]
    }
   ],
   "source": [
    "print(len(words))"
   ]
  },
  {
   "cell_type": "code",
   "execution_count": 18,
   "metadata": {},
   "outputs": [
    {
     "name": "stdout",
     "output_type": "stream",
     "text": [
      "Количество уникальных слов в стихотворении: 40\n"
     ]
    }
   ],
   "source": [
    "uniqueword = list(set(poem))\n",
    "print(\"Количество уникальных слов в стихотворении:\", len(uniqueword))"
   ]
  },
  {
   "cell_type": "code",
   "execution_count": 19,
   "metadata": {},
   "outputs": [
    {
     "name": "stdout",
     "output_type": "stream",
     "text": [
      "['кошка', 'отчасти', 'идет', 'по', 'дороге', 'отчасти', 'по', 'воздуху', 'плавно', 'летит']\n"
     ]
    }
   ],
   "source": [
    "#Последние слова\n",
    "print(smallwords[-10:])"
   ]
  },
  {
   "cell_type": "code",
   "execution_count": 20,
   "metadata": {},
   "outputs": [
    {
     "name": "stdout",
     "output_type": "stream",
     "text": [
      "удивительная\n",
      "кошка\n",
      "несчастная\n",
      "кошка\n",
      "порезала\n",
      "лапу\n",
      "сидит\n",
      "и\n",
      "ни\n",
      "шагу\n",
      "не\n",
      "может\n",
      "ступить\n",
      "скорей\n",
      "чтобы\n",
      "вылечить\n",
      "кошкину\n",
      "лапу\n",
      "воздушные\n",
      "шарики\n",
      "надо\n",
      "купить\n",
      "и\n",
      "сразу\n",
      "столпился\n",
      "народ\n",
      "на\n",
      "дороге\n",
      "шумит\n",
      "и\n",
      "кричит\n",
      "и\n",
      "на\n",
      "кошку\n",
      "глядит\n",
      "а\n",
      "кошка\n",
      "отчасти\n",
      "идет\n",
      "по\n",
      "дороге\n",
      "отчасти\n",
      "по\n",
      "воздуху\n",
      "плавно\n",
      "летит\n"
     ]
    }
   ],
   "source": [
    "#Соединяем список в строку,слова написаны через знак переноса строки.\n",
    "uni_poem = '\\n'.join(smallwords)\n",
    "print(uni_poem)"
   ]
  },
  {
   "cell_type": "code",
   "execution_count": 21,
   "metadata": {},
   "outputs": [
    {
     "name": "stdout",
     "output_type": "stream",
     "text": [
      "['н', 'е', 'с', 'ч', 'а', 'с', 'т', 'н', 'а', 'я']\n"
     ]
    }
   ],
   "source": [
    "new_word = list(uni_poem)\n",
    "print(new_word[19:29])"
   ]
  },
  {
   "cell_type": "code",
   "execution_count": 22,
   "metadata": {},
   "outputs": [
    {
     "name": "stdout",
     "output_type": "stream",
     "text": [
      "['удивительная кошка', 'кошка несчастная', 'несчастная кошка', 'кошка порезала', 'порезала лапу', 'лапу сидит', 'сидит и', 'и ни', 'ни шагу', 'шагу не', 'не может', 'может ступить', 'ступить скорей', 'скорей чтобы', 'чтобы вылечить', 'вылечить кошкину', 'кошкину лапу', 'лапу воздушные', 'воздушные шарики', 'шарики надо', 'надо купить', 'купить и', 'и сразу', 'сразу столпился', 'столпился народ', 'народ на', 'на дороге', 'дороге шумит', 'шумит и', 'и кричит', 'кричит и', 'и на', 'на кошку', 'кошку глядит', 'глядит а', 'а кошка', 'кошка отчасти', 'отчасти идет', 'идет по', 'по дороге', 'дороге отчасти', 'отчасти по', 'по воздуху', 'воздуху плавно', 'плавно летит']\n"
     ]
    }
   ],
   "source": [
    "bigrammas = []\n",
    "\n",
    "for num in range(len(smallwords)-1):\n",
    "    bigram = tuple()\n",
    "    bigram = smallwords[num] + \" \" + smallwords[num + 1]\n",
    "    bigrammas.append(bigram)\n",
    "    \n",
    "print(bigrammas)"
   ]
  },
  {
   "cell_type": "code",
   "execution_count": 23,
   "metadata": {},
   "outputs": [
    {
     "name": "stdout",
     "output_type": "stream",
     "text": [
      "Частотность биграммы 'удивительная кошка':1\n",
      "Частотность биграммы 'кошка несчастная':1\n",
      "Частотность биграммы 'несчастная кошка':1\n",
      "Частотность биграммы 'кошка порезала':1\n",
      "Частотность биграммы 'порезала лапу':1\n",
      "Частотность биграммы 'лапу сидит':1\n",
      "Частотность биграммы 'сидит и':1\n",
      "Частотность биграммы 'и ни':1\n",
      "Частотность биграммы 'ни шагу':1\n",
      "Частотность биграммы 'шагу не':1\n",
      "Частотность биграммы 'не может':1\n",
      "Частотность биграммы 'может ступить':1\n",
      "Частотность биграммы 'ступить скорей':1\n",
      "Частотность биграммы 'скорей чтобы':1\n",
      "Частотность биграммы 'чтобы вылечить':1\n",
      "Частотность биграммы 'вылечить кошкину':1\n",
      "Частотность биграммы 'кошкину лапу':1\n",
      "Частотность биграммы 'лапу воздушные':1\n",
      "Частотность биграммы 'воздушные шарики':1\n",
      "Частотность биграммы 'шарики надо':1\n",
      "Частотность биграммы 'надо купить':1\n",
      "Частотность биграммы 'купить и':1\n",
      "Частотность биграммы 'и сразу':1\n",
      "Частотность биграммы 'сразу столпился':1\n",
      "Частотность биграммы 'столпился народ':1\n",
      "Частотность биграммы 'народ на':1\n",
      "Частотность биграммы 'на дороге':1\n",
      "Частотность биграммы 'дороге шумит':1\n",
      "Частотность биграммы 'шумит и':1\n",
      "Частотность биграммы 'и кричит':1\n",
      "Частотность биграммы 'кричит и':1\n",
      "Частотность биграммы 'и на':1\n",
      "Частотность биграммы 'на кошку':1\n",
      "Частотность биграммы 'кошку глядит':1\n",
      "Частотность биграммы 'глядит а':1\n",
      "Частотность биграммы 'а кошка':1\n",
      "Частотность биграммы 'кошка отчасти':1\n",
      "Частотность биграммы 'отчасти идет':1\n",
      "Частотность биграммы 'идет по':1\n",
      "Частотность биграммы 'по дороге':1\n",
      "Частотность биграммы 'дороге отчасти':1\n",
      "Частотность биграммы 'отчасти по':1\n",
      "Частотность биграммы 'по воздуху':1\n",
      "Частотность биграммы 'воздуху плавно':1\n",
      "Частотность биграммы 'плавно летит':1\n"
     ]
    }
   ],
   "source": [
    "bigrammas = []\n",
    "for num in range(len(smallwords)-1):\n",
    "    bigram = tuple()\n",
    "    bigram = smallwords[num] + \" \" + smallwords[num + 1]\n",
    "    bigrammas.append(bigram)\n",
    "for bigram in bigrammas: \n",
    "    print(\"Частотность биграммы \" + \"'\" + bigram + \"':\"+ str(bigrammas.count(bigram)))"
   ]
  }
 ],
 "metadata": {
  "kernelspec": {
   "display_name": "Python 3",
   "language": "python",
   "name": "python3"
  },
  "language_info": {
   "codemirror_mode": {
    "name": "ipython",
    "version": 3
   },
   "file_extension": ".py",
   "mimetype": "text/x-python",
   "name": "python",
   "nbconvert_exporter": "python",
   "pygments_lexer": "ipython3",
   "version": "3.6.5"
  }
 },
 "nbformat": 4,
 "nbformat_minor": 2
}
