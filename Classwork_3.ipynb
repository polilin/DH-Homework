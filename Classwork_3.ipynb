{
 "cells": [
  {
   "cell_type": "code",
   "execution_count": 4,
   "metadata": {},
   "outputs": [],
   "source": [
    "import os\n"
   ]
  },
  {
   "cell_type": "code",
   "execution_count": 5,
   "metadata": {},
   "outputs": [
    {
     "name": "stdout",
     "output_type": "stream",
     "text": [
      "/Users/mac/Desktop/Snake/DH-Homework\n"
     ]
    }
   ],
   "source": [
    "print(os.getcwd())"
   ]
  },
  {
   "cell_type": "code",
   "execution_count": 12,
   "metadata": {},
   "outputs": [
    {
     "name": "stdout",
     "output_type": "stream",
     "text": [
      "Untitled1.ipynb\n",
      ".DS_Store\n",
      "Hello World.pages\n",
      "Untitled.ipynb\n",
      "README.md\n",
      "classwork.ipynb\n",
      "Classwork2.ipynb\n",
      ".gitignore\n",
      "Del\n",
      "HW1.ipynb\n",
      ".ipynb_checkpoints\n",
      "poems\n",
      ".git\n",
      "HomeWork1.ipynb\n"
     ]
    }
   ],
   "source": [
    "files=[]\n",
    "for file in os.listdir('.'): \n",
    "    print(file)\n",
    "    files.append(file)"
   ]
  },
  {
   "cell_type": "code",
   "execution_count": 13,
   "metadata": {},
   "outputs": [
    {
     "data": {
      "text/plain": [
       "14"
      ]
     },
     "execution_count": 13,
     "metadata": {},
     "output_type": "execute_result"
    }
   ],
   "source": [
    "len(files)"
   ]
  },
  {
   "cell_type": "code",
   "execution_count": 14,
   "metadata": {},
   "outputs": [
    {
     "name": "stdout",
     "output_type": "stream",
     "text": [
      "False\n"
     ]
    }
   ],
   "source": [
    "print(os.path.exists('гримм.txt'))"
   ]
  },
  {
   "cell_type": "code",
   "execution_count": 20,
   "metadata": {
    "scrolled": true
   },
   "outputs": [
    {
     "name": "stdout",
     "output_type": "stream",
     "text": [
      "кот по цепи идёт направо \n",
      "и упирается в щиток \n",
      "а от щитка идя налево \n",
      "он ток\n"
     ]
    }
   ],
   "source": [
    "f = open('./poems/котики/кот.txt', 'r', encoding='utf-8')\n",
    "poem = f.read()\n",
    "print(poem)"
   ]
  },
  {
   "cell_type": "code",
   "execution_count": 22,
   "metadata": {},
   "outputs": [
    {
     "name": "stdout",
     "output_type": "stream",
     "text": [
      "['а боль у вас какого рода \\n', 'спросил дежурный врач а я \\n', 'как на духу она ответил \\n', 'моя']\n"
     ]
    }
   ],
   "source": [
    "with open('./poems/боль.txt', 'r', encoding='utf-8') as f:\n",
    "    lines = f.readlines()\n",
    "    \n",
    "print(lines)"
   ]
  },
  {
   "cell_type": "code",
   "execution_count": 23,
   "metadata": {},
   "outputs": [],
   "source": [
    "os.rename('./poems/кладь.txt', './poems/КЛАДЬ.txt')"
   ]
  },
  {
   "cell_type": "code",
   "execution_count": 25,
   "metadata": {},
   "outputs": [],
   "source": [
    "os.remove('./poems/котики/пушок.txt')"
   ]
  },
  {
   "cell_type": "code",
   "execution_count": 34,
   "metadata": {
    "scrolled": true
   },
   "outputs": [
    {
     "name": "stdout",
     "output_type": "stream",
     "text": [
      "/Users/mac/Desktop/Snake/DH-Homework/poems/poems.txt\n",
      "/Users/mac/Desktop/Snake/DH-Homework/poems/шредингер.txt\n",
      "/Users/mac/Desktop/Snake/DH-Homework/poems/боль.txt\n",
      "/Users/mac/Desktop/Snake/DH-Homework/poems/ворон.txt\n",
      "/Users/mac/Desktop/Snake/DH-Homework/poems/КЛАДЬ.txt\n",
      "/Users/mac/Desktop/Snake/DH-Homework/poems/деды.txt\n",
      "/Users/mac/Desktop/Snake/DH-Homework/poems/ночь.txt\n",
      "/Users/mac/Desktop/Snake/DH-Homework/poems/сказки/король.txt\n",
      "/Users/mac/Desktop/Snake/DH-Homework/poems/сказки/крестная.txt\n",
      "/Users/mac/Desktop/Snake/DH-Homework/poems/сказки/гримм.txt\n",
      "/Users/mac/Desktop/Snake/DH-Homework/poems/сказки/королевич.txt\n",
      "/Users/mac/Desktop/Snake/DH-Homework/poems/сказки/яга.txt\n",
      "/Users/mac/Desktop/Snake/DH-Homework/poems/котики/кот.txt\n",
      "/Users/mac/Desktop/Snake/DH-Homework/poems/котики/лео.txt\n"
     ]
    }
   ],
   "source": [
    "for root, dirs, files in os.walk(\"/Users/mac/Desktop/Snake/DH-Homework/poems\"):\n",
    "    for name in files:\n",
    "        fullname = os.path.join(root, name)\n",
    "        print(fullname)\n",
    "        f = open(fullname, 'r', encoding='utf-8')\n",
    "        poem = f.read()\n",
    "        p = open(\"/Users/mac/Desktop/Snake/DH-Homework/poems/poems.txt\", 'a', encoding='utf-8')\n",
    "        p.write(poem)"
   ]
  },
  {
   "cell_type": "code",
   "execution_count": 1,
   "metadata": {},
   "outputs": [],
   "source": [
    "with open('/Users/mac/Desktop/Snake/DH-Homework/poems/poems.txt', 'r', encoding='utf-8') as f:\n",
    "    poem = f.read()"
   ]
  },
  {
   "cell_type": "code",
   "execution_count": 37,
   "metadata": {
    "scrolled": true
   },
   "outputs": [
    {
     "data": {
      "text/plain": [
       "True"
      ]
     },
     "execution_count": 37,
     "metadata": {},
     "output_type": "execute_result"
    }
   ],
   "source": [
    "f.closed"
   ]
  },
  {
   "cell_type": "code",
   "execution_count": 38,
   "metadata": {},
   "outputs": [
    {
     "name": "stdout",
     "output_type": "stream",
     "text": [
      "\n",
      "Удивительная кошка\n",
      "\n",
      "Несчастная кошка порезала лапу-\n",
      "Сидит, и ни шагу не может ступить.\n",
      "Скорей, чтобы вылечить кошкину лапу\n",
      "Воздушные шарики надо купить!\n",
      "\n",
      "И сразу столпился народ на дороге-\n",
      "Шумит, и кричит, и на кошку глядит.\n",
      "А кошка отчасти идет по дороге,\n",
      "Отчасти по воздуху плавно летит!\n",
      "\n"
     ]
    }
   ],
   "source": [
    "poem = \"\"\"\n",
    "Удивительная кошка\n",
    "\n",
    "Несчастная кошка порезала лапу-\n",
    "Сидит, и ни шагу не может ступить.\n",
    "Скорей, чтобы вылечить кошкину лапу\n",
    "Воздушные шарики надо купить!\n",
    "\n",
    "И сразу столпился народ на дороге-\n",
    "Шумит, и кричит, и на кошку глядит.\n",
    "А кошка отчасти идет по дороге,\n",
    "Отчасти по воздуху плавно летит!\n",
    "\"\"\"\n",
    "print (poem)"
   ]
  },
  {
   "cell_type": "code",
   "execution_count": 39,
   "metadata": {},
   "outputs": [
    {
     "name": "stdout",
     "output_type": "stream",
     "text": [
      "291\n"
     ]
    }
   ],
   "source": [
    "print(len(poem))"
   ]
  },
  {
   "cell_type": "code",
   "execution_count": 65,
   "metadata": {},
   "outputs": [
    {
     "name": "stdout",
     "output_type": "stream",
     "text": [
      "['Удивительная', 'кошка', 'Несчастная', 'кошка', 'порезала', 'лапу', 'Сидит', 'и', 'ни', 'шагу', 'не', 'может', 'ступить', 'Скорей', 'чтобы', 'вылечить', 'кошкину', 'лапу', 'Воздушные', 'шарики', 'надо', 'купить', 'И', 'сразу', 'столпился', 'народ', 'на', 'дороге', 'Шумит', 'и', 'кричит', 'и', 'на', 'кошку', 'глядит', 'А', 'кошка', 'отчасти', 'идет', 'по', 'дороге', 'Отчасти', 'по', 'воздуху', 'плавно', 'летит']\n"
     ]
    }
   ],
   "source": [
    "words = []\n",
    "\n",
    "for word in poem.split():\n",
    "    words.append(word.strip(\"!?.,-–-\"))\n",
    "    \n",
    "print(words)"
   ]
  },
  {
   "cell_type": "code",
   "execution_count": 59,
   "metadata": {},
   "outputs": [
    {
     "name": "stdout",
     "output_type": "stream",
     "text": [
      "Удивительная кошка Несчастная кошка порезала лапу Сидит и ни шагу не может ступить Скорей чтобы вылечить кошкину лапу Воздушные шарики надо купить И сразу столпился народ на дороге Шумит и кричит и на кошку глядит А кошка отчасти идет по дороге Отчасти по воздуху плавно летит\n"
     ]
    }
   ],
   "source": [
    "s2 = ' '.join(words)\n",
    "print(s2)"
   ]
  },
  {
   "cell_type": "code",
   "execution_count": 66,
   "metadata": {},
   "outputs": [
    {
     "name": "stdout",
     "output_type": "stream",
     "text": [
      "['Удивительная', 'кошка', 'Несчастная', 'кошка', 'порезала', 'лапу', 'Сидит', 'и', 'ни', 'шагу', 'не', 'может', 'ступить', 'Скорей', 'чтобы', 'вылечить', 'кошкину', 'лапу', 'Воздушные', 'шарики', 'надо', 'купить', 'И', 'сразу', 'столпился', 'народ', 'на', 'дороге', 'Шумит', 'и', 'кричит', 'и', 'на', 'кошку', 'глядит', 'А', 'кошка', 'отчасти', 'идет', 'по', 'дороге', 'Отчасти', 'по', 'воздуху', 'плавно', 'летит']\n"
     ]
    }
   ],
   "source": [
    "word1 = []\n",
    "for word in words:\n",
    "    if word.isalpha():\n",
    "        word1.append(word)\n",
    "        \n",
    "print(word1)\n"
   ]
  },
  {
   "cell_type": "code",
   "execution_count": 73,
   "metadata": {
    "scrolled": true
   },
   "outputs": [],
   "source": [
    "smallwords =[w.lower() for w in word1]"
   ]
  },
  {
   "cell_type": "code",
   "execution_count": 74,
   "metadata": {},
   "outputs": [
    {
     "name": "stdout",
     "output_type": "stream",
     "text": [
      "['удивительная', 'кошка', 'несчастная', 'кошка', 'порезала', 'лапу', 'сидит', 'и', 'ни', 'шагу', 'не', 'может', 'ступить', 'скорей', 'чтобы', 'вылечить', 'кошкину', 'лапу', 'воздушные', 'шарики', 'надо', 'купить', 'и', 'сразу', 'столпился', 'народ', 'на', 'дороге', 'шумит', 'и', 'кричит', 'и', 'на', 'кошку', 'глядит', 'а', 'кошка', 'отчасти', 'идет', 'по', 'дороге', 'отчасти', 'по', 'воздуху', 'плавно', 'летит']\n"
     ]
    }
   ],
   "source": [
    "print(smallwords)"
   ]
  },
  {
   "cell_type": "code",
   "execution_count": null,
   "metadata": {},
   "outputs": [],
   "source": []
  }
 ],
 "metadata": {
  "kernelspec": {
   "display_name": "Python 3",
   "language": "python",
   "name": "python3"
  },
  "language_info": {
   "codemirror_mode": {
    "name": "ipython",
    "version": 3
   },
   "file_extension": ".py",
   "mimetype": "text/x-python",
   "name": "python",
   "nbconvert_exporter": "python",
   "pygments_lexer": "ipython3",
   "version": "3.6.5"
  }
 },
 "nbformat": 4,
 "nbformat_minor": 2
}
